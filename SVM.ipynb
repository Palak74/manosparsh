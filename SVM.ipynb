{
  "nbformat": 4,
  "nbformat_minor": 0,
  "metadata": {
    "colab": {
      "provenance": []
    },
    "kernelspec": {
      "name": "python3",
      "display_name": "Python 3"
    },
    "language_info": {
      "name": "python"
    }
  },
  "cells": [
    {
      "cell_type": "code",
      "execution_count": null,
      "metadata": {
        "id": "RcL9uHxA_Vap",
        "colab": {
          "base_uri": "https://localhost:8080/"
        },
        "outputId": "b31ad4df-3787-4134-8dd0-89172d980522"
      },
      "outputs": [
        {
          "output_type": "stream",
          "name": "stderr",
          "text": [
            "[nltk_data] Downloading package punkt_tab to /root/nltk_data...\n",
            "[nltk_data]   Package punkt_tab is already up-to-date!\n",
            "[nltk_data] Downloading package stopwords to /root/nltk_data...\n",
            "[nltk_data]   Package stopwords is already up-to-date!\n"
          ]
        }
      ],
      "source": [
        "import pandas as pd\n",
        "import seaborn as sns\n",
        "import matplotlib.pyplot as plt\n",
        "from wordcloud import WordCloud\n",
        "import numpy as np\n",
        "import nltk\n",
        "nltk.download('punkt_tab')\n",
        "nltk.download('stopwords')\n",
        "from nltk.corpus import stopwords\n",
        "from nltk.tokenize import word_tokenize, sent_tokenize\n",
        "from nltk.stem import PorterStemmer, WordNetLemmatizer\n",
        "from sklearn.feature_extraction.text import CountVectorizer, TfidfVectorizer\n",
        "from sklearn.metrics import accuracy_score, confusion_matrix, classification_report\n",
        "from sklearn.pipeline import make_pipeline, Pipeline\n",
        "from sklearn.model_selection import train_test_split\n",
        "from sklearn.preprocessing import LabelEncoder, StandardScaler, MinMaxScaler, RobustScaler, Normalizer\n",
        "import scipy.sparse\n",
        "\n",
        "from sklearn.svm import SVC\n",
        "from sklearn.base import BaseEstimator, TransformerMixin\n",
        "import joblib\n",
        "import warnings\n",
        "warnings.filterwarnings(\"ignore\")\n",
        "import string\n",
        "sns.set_style(\"dark\")"
      ]
    },
    {
      "cell_type": "code",
      "source": [
        "from google.colab import files\n",
        "uploaded = files.upload()"
      ],
      "metadata": {
        "colab": {
          "base_uri": "https://localhost:8080/",
          "height": 142
        },
        "id": "Nx73YrZxWMFf",
        "outputId": "220071b7-8322-4649-f679-87c76922dc70"
      },
      "execution_count": null,
      "outputs": [
        {
          "output_type": "display_data",
          "data": {
            "text/plain": [
              "<IPython.core.display.HTML object>"
            ],
            "text/html": [
              "\n",
              "     <input type=\"file\" id=\"files-35e815eb-0d64-45e5-9a15-25945fb49aba\" name=\"files[]\" multiple disabled\n",
              "        style=\"border:none\" />\n",
              "     <output id=\"result-35e815eb-0d64-45e5-9a15-25945fb49aba\">\n",
              "      Upload widget is only available when the cell has been executed in the\n",
              "      current browser session. Please rerun this cell to enable.\n",
              "      </output>\n",
              "      <script>// Copyright 2017 Google LLC\n",
              "//\n",
              "// Licensed under the Apache License, Version 2.0 (the \"License\");\n",
              "// you may not use this file except in compliance with the License.\n",
              "// You may obtain a copy of the License at\n",
              "//\n",
              "//      http://www.apache.org/licenses/LICENSE-2.0\n",
              "//\n",
              "// Unless required by applicable law or agreed to in writing, software\n",
              "// distributed under the License is distributed on an \"AS IS\" BASIS,\n",
              "// WITHOUT WARRANTIES OR CONDITIONS OF ANY KIND, either express or implied.\n",
              "// See the License for the specific language governing permissions and\n",
              "// limitations under the License.\n",
              "\n",
              "/**\n",
              " * @fileoverview Helpers for google.colab Python module.\n",
              " */\n",
              "(function(scope) {\n",
              "function span(text, styleAttributes = {}) {\n",
              "  const element = document.createElement('span');\n",
              "  element.textContent = text;\n",
              "  for (const key of Object.keys(styleAttributes)) {\n",
              "    element.style[key] = styleAttributes[key];\n",
              "  }\n",
              "  return element;\n",
              "}\n",
              "\n",
              "// Max number of bytes which will be uploaded at a time.\n",
              "const MAX_PAYLOAD_SIZE = 100 * 1024;\n",
              "\n",
              "function _uploadFiles(inputId, outputId) {\n",
              "  const steps = uploadFilesStep(inputId, outputId);\n",
              "  const outputElement = document.getElementById(outputId);\n",
              "  // Cache steps on the outputElement to make it available for the next call\n",
              "  // to uploadFilesContinue from Python.\n",
              "  outputElement.steps = steps;\n",
              "\n",
              "  return _uploadFilesContinue(outputId);\n",
              "}\n",
              "\n",
              "// This is roughly an async generator (not supported in the browser yet),\n",
              "// where there are multiple asynchronous steps and the Python side is going\n",
              "// to poll for completion of each step.\n",
              "// This uses a Promise to block the python side on completion of each step,\n",
              "// then passes the result of the previous step as the input to the next step.\n",
              "function _uploadFilesContinue(outputId) {\n",
              "  const outputElement = document.getElementById(outputId);\n",
              "  const steps = outputElement.steps;\n",
              "\n",
              "  const next = steps.next(outputElement.lastPromiseValue);\n",
              "  return Promise.resolve(next.value.promise).then((value) => {\n",
              "    // Cache the last promise value to make it available to the next\n",
              "    // step of the generator.\n",
              "    outputElement.lastPromiseValue = value;\n",
              "    return next.value.response;\n",
              "  });\n",
              "}\n",
              "\n",
              "/**\n",
              " * Generator function which is called between each async step of the upload\n",
              " * process.\n",
              " * @param {string} inputId Element ID of the input file picker element.\n",
              " * @param {string} outputId Element ID of the output display.\n",
              " * @return {!Iterable<!Object>} Iterable of next steps.\n",
              " */\n",
              "function* uploadFilesStep(inputId, outputId) {\n",
              "  const inputElement = document.getElementById(inputId);\n",
              "  inputElement.disabled = false;\n",
              "\n",
              "  const outputElement = document.getElementById(outputId);\n",
              "  outputElement.innerHTML = '';\n",
              "\n",
              "  const pickedPromise = new Promise((resolve) => {\n",
              "    inputElement.addEventListener('change', (e) => {\n",
              "      resolve(e.target.files);\n",
              "    });\n",
              "  });\n",
              "\n",
              "  const cancel = document.createElement('button');\n",
              "  inputElement.parentElement.appendChild(cancel);\n",
              "  cancel.textContent = 'Cancel upload';\n",
              "  const cancelPromise = new Promise((resolve) => {\n",
              "    cancel.onclick = () => {\n",
              "      resolve(null);\n",
              "    };\n",
              "  });\n",
              "\n",
              "  // Wait for the user to pick the files.\n",
              "  const files = yield {\n",
              "    promise: Promise.race([pickedPromise, cancelPromise]),\n",
              "    response: {\n",
              "      action: 'starting',\n",
              "    }\n",
              "  };\n",
              "\n",
              "  cancel.remove();\n",
              "\n",
              "  // Disable the input element since further picks are not allowed.\n",
              "  inputElement.disabled = true;\n",
              "\n",
              "  if (!files) {\n",
              "    return {\n",
              "      response: {\n",
              "        action: 'complete',\n",
              "      }\n",
              "    };\n",
              "  }\n",
              "\n",
              "  for (const file of files) {\n",
              "    const li = document.createElement('li');\n",
              "    li.append(span(file.name, {fontWeight: 'bold'}));\n",
              "    li.append(span(\n",
              "        `(${file.type || 'n/a'}) - ${file.size} bytes, ` +\n",
              "        `last modified: ${\n",
              "            file.lastModifiedDate ? file.lastModifiedDate.toLocaleDateString() :\n",
              "                                    'n/a'} - `));\n",
              "    const percent = span('0% done');\n",
              "    li.appendChild(percent);\n",
              "\n",
              "    outputElement.appendChild(li);\n",
              "\n",
              "    const fileDataPromise = new Promise((resolve) => {\n",
              "      const reader = new FileReader();\n",
              "      reader.onload = (e) => {\n",
              "        resolve(e.target.result);\n",
              "      };\n",
              "      reader.readAsArrayBuffer(file);\n",
              "    });\n",
              "    // Wait for the data to be ready.\n",
              "    let fileData = yield {\n",
              "      promise: fileDataPromise,\n",
              "      response: {\n",
              "        action: 'continue',\n",
              "      }\n",
              "    };\n",
              "\n",
              "    // Use a chunked sending to avoid message size limits. See b/62115660.\n",
              "    let position = 0;\n",
              "    do {\n",
              "      const length = Math.min(fileData.byteLength - position, MAX_PAYLOAD_SIZE);\n",
              "      const chunk = new Uint8Array(fileData, position, length);\n",
              "      position += length;\n",
              "\n",
              "      const base64 = btoa(String.fromCharCode.apply(null, chunk));\n",
              "      yield {\n",
              "        response: {\n",
              "          action: 'append',\n",
              "          file: file.name,\n",
              "          data: base64,\n",
              "        },\n",
              "      };\n",
              "\n",
              "      let percentDone = fileData.byteLength === 0 ?\n",
              "          100 :\n",
              "          Math.round((position / fileData.byteLength) * 100);\n",
              "      percent.textContent = `${percentDone}% done`;\n",
              "\n",
              "    } while (position < fileData.byteLength);\n",
              "  }\n",
              "\n",
              "  // All done.\n",
              "  yield {\n",
              "    response: {\n",
              "      action: 'complete',\n",
              "    }\n",
              "  };\n",
              "}\n",
              "\n",
              "scope.google = scope.google || {};\n",
              "scope.google.colab = scope.google.colab || {};\n",
              "scope.google.colab._files = {\n",
              "  _uploadFiles,\n",
              "  _uploadFilesContinue,\n",
              "};\n",
              "})(self);\n",
              "</script> "
            ]
          },
          "metadata": {}
        },
        {
          "output_type": "stream",
          "name": "stdout",
          "text": [
            "Saving test.txt to test.txt\n",
            "Saving train.txt to train.txt\n",
            "Saving val.txt to val.txt\n"
          ]
        }
      ]
    },
    {
      "cell_type": "code",
      "source": [
        "train_data = pd.read_csv(\n",
        "    \"train.txt\",\n",
        "    sep=\";\",\n",
        "    header=None,\n",
        "    names=[\"text\", \"emotion\"],\n",
        ")\n",
        "test_data = pd.read_csv(\n",
        "    \"test.txt\",\n",
        "    sep=\";\",\n",
        "    header=None,\n",
        "    names=[\"text\", \"emotion\"],\n",
        ")\n",
        "validation_data = pd.read_csv(\n",
        "    \"val.txt\",\n",
        "    sep=\";\",\n",
        "    header=None,\n",
        "    names=[\"text\", \"emotion\"],\n",
        ")\n",
        "\n",
        "data = {\n",
        "    \"train\": [],\n",
        "    \"accuracy\": [],\n",
        "}\n",
        "\n",
        "train_models = pd.DataFrame(data, columns=[\"train\", \"accuracy\"])\n",
        "data = {\n",
        "    \"test\": [],\n",
        "    \"accuracy\": [],\n",
        "}\n",
        "\n",
        "test_models = pd.DataFrame(data, columns=[\"test\", \"accuracy\"])\n",
        "\n",
        "data = {\n",
        "    \"validation\": [],\n",
        "    \"accuracy\": [],\n",
        "}\n",
        "\n",
        "validation_models = pd.DataFrame(data, columns=[\"validation\", \"accuracy\"])"
      ],
      "metadata": {
        "id": "dKPuDqEDE1jL"
      },
      "execution_count": null,
      "outputs": []
    },
    {
      "cell_type": "code",
      "source": [
        "print(\"Train Data\\n \", train_data.head(5))\n",
        "print(\"---------------------------------------------------------------------------------\")\n",
        "\n",
        "print(\"Test Data\\n\", test_data.head(5))\n",
        "print(\"---------------------------------------------------------------------------------\")\n",
        "\n",
        "print(\"Validation Data\\n\", validation_data.head(5))"
      ],
      "metadata": {
        "id": "r9Io3yDmCifM",
        "colab": {
          "base_uri": "https://localhost:8080/"
        },
        "outputId": "44d144a0-fde5-4248-a3f8-a2fc6a90b908"
      },
      "execution_count": null,
      "outputs": [
        {
          "output_type": "stream",
          "name": "stdout",
          "text": [
            "Test Data\n",
            "                                                  text  emotion\n",
            "0  im feeling rather rotten so im not very ambiti...  sadness\n",
            "1          im updating my blog because i feel shitty  sadness\n",
            "2  i never make her separate from me because i do...  sadness\n",
            "3  i left with my bouquet of red and yellow tulip...      joy\n",
            "4    i was feeling a little vain when i did this one  sadness\n",
            "---------------------------------------------------------------------------------\n",
            "Train Data\n",
            "                                                 text  emotion\n",
            "0                            i didnt feel humiliated  sadness\n",
            "1  i can go from feeling so hopeless to so damned...  sadness\n",
            "2   im grabbing a minute to post i feel greedy wrong    anger\n",
            "3  i am ever feeling nostalgic about the fireplac...     love\n",
            "4                               i am feeling grouchy    anger\n",
            "---------------------------------------------------------------------------------\n",
            "Validation Data\n",
            "                                                 text  emotion\n",
            "0  im feeling quite sad and sorry for myself but ...  sadness\n",
            "1  i feel like i am still looking at a blank canv...  sadness\n",
            "2                     i feel like a faithful servant     love\n",
            "3                  i am just feeling cranky and blue    anger\n",
            "4  i can have for a treat or if i am feeling festive      joy\n"
          ]
        }
      ]
    },
    {
      "cell_type": "code",
      "source": [
        "class text_processing(BaseEstimator, TransformerMixin):\n",
        "    def __init__(\n",
        "        self,\n",
        "        lower=False,\n",
        "        upper=False,\n",
        "        remove_special_characters=False,\n",
        "        remove_punctuation=False,\n",
        "        remove_stop_words=False,\n",
        "        stem_the_words=False,\n",
        "    ) -> None:\n",
        "        self.lower = lower\n",
        "        self.upper = upper\n",
        "        self.remove_special_characters = remove_special_characters\n",
        "        self.remove_punctuation = remove_punctuation\n",
        "        self.remove_stop_words = remove_stop_words\n",
        "        self.stem_the_words = stem_the_words\n",
        "        super().__init__()\n",
        "\n",
        "    def fit(self, X, y=None):\n",
        "        return self\n",
        "\n",
        "    # for converting the text to lower case\n",
        "    def __convert_text_lower(self, text):\n",
        "        text = text.lower()\n",
        "        return text\n",
        "\n",
        "    def __lower_text(self, X):\n",
        "        X = X.apply(self.__convert_text_lower)\n",
        "        return X\n",
        "\n",
        "    # for converting the text to upper case\n",
        "    def __convert_text_upper(self, text):\n",
        "        text = text.upper()\n",
        "        return text\n",
        "\n",
        "    def __upper_text(self, X):\n",
        "        X = X.apply(self.__convert_text_upper)\n",
        "        return X\n",
        "\n",
        "    # for converting the text to words\n",
        "    def __TextToWord(self, X):\n",
        "        words = word_tokenize(X)\n",
        "        return words\n",
        "\n",
        "    # for removing Special Characters\n",
        "    def __remove_spec(self, X):\n",
        "        words = self.__TextToWord(X)\n",
        "        fixed_words = []\n",
        "        for w in words:\n",
        "            if w.isalnum():\n",
        "                fixed_words.append(w)\n",
        "        return \" \".join(fixed_words)\n",
        "\n",
        "    def __Remove_Special_Characters(self, X):\n",
        "        X = X.apply(self.__remove_spec)\n",
        "        return X\n",
        "\n",
        "    # for removing Punctuation\n",
        "    def __remove_puncs(self, X):\n",
        "        words = self.__TextToWord(X)\n",
        "        punctuation = set(string.punctuation)\n",
        "        fixed_words = []\n",
        "        for w in words:\n",
        "            if not punctuation.__contains__(w):\n",
        "                fixed_words.append(w)\n",
        "        return \" \".join(fixed_words)\n",
        "\n",
        "    def __Remove_Punctuation(self, X):\n",
        "        X = X.apply(self.__remove_puncs)\n",
        "        return X\n",
        "\n",
        "    # for removing Stop Words\n",
        "    def __remove_stop(self, X):\n",
        "        stop_words = set(stopwords.words(\"english\"))\n",
        "        words = self.__TextToWord(X)\n",
        "        fixed_words = []\n",
        "        for w in words:\n",
        "            if not stop_words.__contains__(w):\n",
        "                fixed_words.append(w)\n",
        "        return \" \".join(fixed_words)\n",
        "\n",
        "    def __Remove_stop_words(self, X):\n",
        "        X = X.apply(self.__remove_stop)\n",
        "        return X\n",
        "\n",
        "    # for Stemming the words\n",
        "    def __stem_text(self, text):\n",
        "        stemmer = PorterStemmer()\n",
        "        words = self.__TextToWord(text)\n",
        "        stemmed_words = []\n",
        "        for w in words:\n",
        "            stemmed_words.append(stemmer.stem(w))\n",
        "        return \" \".join(stemmed_words)\n",
        "\n",
        "    def __Stemming(self, X):\n",
        "        X = X.apply(self.__stem_text)\n",
        "        return X\n",
        "\n",
        "    # we will apply the text processing based on the parameters\n",
        "    def process_text(self, X):\n",
        "        data = X.copy()\n",
        "        # will lowercase the text\n",
        "        if self.lower:\n",
        "            data = self.__lower_text(data)\n",
        "        # will uppercase the text\n",
        "        if self.upper:\n",
        "            data = self.__upper_text(data)\n",
        "        # will remove the special characters\n",
        "        if self.remove_special_characters:\n",
        "            data = self.__Remove_Special_Characters(data)\n",
        "        # will remove the punctuation\n",
        "        if self.remove_punctuation:\n",
        "            data = self.__Remove_Punctuation(data)\n",
        "        # will remove the stop words\n",
        "        if self.remove_stop_words:\n",
        "            data = self.__Remove_stop_words(data)\n",
        "        # will stem the words\n",
        "        if self.stem_the_words:\n",
        "            data = self.__Stemming(data)\n",
        "        return data\n",
        "\n",
        "    def transform(self, X, y=None):\n",
        "        if isinstance(X, (scipy.sparse.csr_matrix, scipy.sparse.csc_matrix)):\n",
        "            # Convert sparse matrix to dense array for text processing\n",
        "            X = pd.Series(X.toarray().ravel())  # Convert to Series for apply\n",
        "            # **CHANGE:** Convert elements to strings before processing\n",
        "            X = X.astype(str) # convert all to strings to apply .lower()\n",
        "            X = self.process_text(X)\n",
        "            # Convert back to sparse matrix if needed\n",
        "            X = scipy.sparse.csr_matrix(X.values.reshape(1, -1)) # reshape to (1, num_features)\n",
        "        else:\n",
        "            X = self.process_text(X)\n",
        "        return X"
      ],
      "metadata": {
        "id": "-hSGmVG-Co6B"
      },
      "execution_count": null,
      "outputs": []
    },
    {
      "cell_type": "code",
      "source": [
        "# removing Duplicate data\n",
        "combine = [train_data, test_data, validation_data]\n",
        "for data_set in combine:\n",
        "    print(data_set.duplicated().sum()) #identifying duplicates\n",
        "print( \"---------------------------------------------------------------------------------\")\n",
        "for data_set in combine:\n",
        "    data_set.drop_duplicates(inplace=True)#dropping duplicates\n",
        "    print(data_set.duplicated().sum())"
      ],
      "metadata": {
        "id": "bWlgDvkGDVGk",
        "colab": {
          "base_uri": "https://localhost:8080/"
        },
        "outputId": "02cae091-8fb7-452d-f8ab-0989c3c374c0"
      },
      "execution_count": null,
      "outputs": [
        {
          "output_type": "stream",
          "name": "stdout",
          "text": [
            "0\n",
            "0\n",
            "0\n",
            "---------------------------------------------------------------------------------\n",
            "0\n",
            "0\n",
            "0\n"
          ]
        }
      ]
    },
    {
      "cell_type": "code",
      "source": [
        "train_x_train = train_data.text\n",
        "train_y_train = train_data.emotion\n",
        "\n",
        "test_x_test = test_data.text\n",
        "test_y_test = test_data.emotion\n",
        "\n",
        "validation_x_val = validation_data.text\n",
        "validation_y_val = validation_data.emotion"
      ],
      "metadata": {
        "id": "OGz9Yu2pDZY8"
      },
      "execution_count": null,
      "outputs": []
    },
    {
      "cell_type": "code",
      "source": [
        "label_encoder = LabelEncoder()\n",
        "train_y_train = label_encoder.fit_transform(train_y_train)\n",
        "test_y_test = label_encoder.transform(test_y_test)\n",
        "validation_y_val = label_encoder.transform(validation_y_val)"
      ],
      "metadata": {
        "id": "W9J-igxqDnzd"
      },
      "execution_count": null,
      "outputs": []
    },
    {
      "cell_type": "code",
      "source": [
        "label_encoder.classes_"
      ],
      "metadata": {
        "id": "nbEewjhaDp96",
        "colab": {
          "base_uri": "https://localhost:8080/"
        },
        "outputId": "d1db47e7-f366-47e2-874c-5bb0ef060d13"
      },
      "execution_count": null,
      "outputs": [
        {
          "output_type": "execute_result",
          "data": {
            "text/plain": [
              "array(['anger', 'fear', 'joy', 'love', 'sadness', 'surprise'],\n",
              "      dtype=object)"
            ]
          },
          "metadata": {},
          "execution_count": 49
        }
      ]
    },
    {
      "cell_type": "code",
      "source": [
        "def acc_score(y_true, y_pred):\n",
        "    return accuracy_score(y_true, y_pred)\n",
        "\n",
        "\n",
        "def conf_mat(model,train_x_train_processed, test_x_test_processed, validation_x_val_processed):\n",
        "    pipeline_train_pred = model.predict(train_x_train_processed)\n",
        "    pipeline_test_pred = model.predict(test_x_test_processed)\n",
        "    pipeline_val_pred = model.predict(validation_x_val_processed)\n",
        "\n",
        "    fig, ax = plt.subplots(1, 3, figsize=(15, 5))\n",
        "    cm = confusion_matrix(list(train_y_train), list(pipeline_train_pred))\n",
        "    sns.heatmap(\n",
        "        cm,\n",
        "        annot=True,\n",
        "        ax=ax[0],\n",
        "        fmt=\"d\",\n",
        "        cmap=\"Greens\",\n",
        "    )\n",
        "    ax[0].set_title(\"Train Data\")\n",
        "    ax[0].set_xlabel(\"Predicted Labels\")\n",
        "    ax[0].set_ylabel(\"True Labels\")\n",
        "\n",
        "    cm = confusion_matrix(list(test_y_test), list(pipeline_test_pred))\n",
        "    sns.heatmap(\n",
        "        cm,\n",
        "        annot=True,\n",
        "        ax=ax[1],\n",
        "        fmt=\"d\",\n",
        "        cmap=\"Greens\",\n",
        "    )\n",
        "    ax[1].set_title(\"Test Data\")\n",
        "    ax[1].set_xlabel(\"Predicted Labels\")\n",
        "    ax[1].set_ylabel(\"True Labels\")\n",
        "\n",
        "    cm = confusion_matrix(list(validation_y_val), list(pipeline_val_pred))\n",
        "    sns.heatmap(\n",
        "        cm,\n",
        "        annot=True,\n",
        "        ax=ax[2],\n",
        "        fmt=\"d\",\n",
        "        cmap=\"Greens\",\n",
        "    )\n",
        "    ax[2].set_title(\"Validation Data\")\n",
        "    ax[2].set_xlabel(\"Predicted Labels\")\n",
        "    ax[2].set_ylabel(\"True Labels\")\n",
        "    plt.legend()\n",
        "    plt.show()"
      ],
      "metadata": {
        "id": "3YE8ylS7DsoD"
      },
      "execution_count": null,
      "outputs": []
    },
    {
      "cell_type": "code",
      "source": [
        "# SVM\n",
        "\"\"\"\n",
        "        Steps of model\n",
        "        1. Text Processing\n",
        "        2. Vectorization by using CountVectorizer for converting the text to numbers\n",
        "        3. scaling the data by using StandardScaler\n",
        "        3. Training the model by using Pipeline\n",
        "\"\"\"\n",
        "\n",
        "text_processing_odj = text_processing(\n",
        "    lower=True,\n",
        "    remove_special_characters=True,\n",
        "    remove_punctuation=True,\n",
        "    remove_stop_words=True,\n",
        "    stem_the_words=False,\n",
        ")\n",
        "count = CountVectorizer(max_features=3000)\n",
        "svm = SVC(kernel=\"linear\",gamma=1, C=.5, random_state=42)\n",
        "svm_pipeline = Pipeline(\n",
        "    [\n",
        "        (\"text_processing\", text_processing_odj),\n",
        "        (\"vectorizer\", count),\n",
        "        (\"svm\", svm),\n",
        "    ]\n",
        ")\n",
        "svm_pipeline.fit(train_x_train, train_y_train)\n",
        "joblib.dump(svm_pipeline, 'svm_model.pkl')  # Save the model\n",
        "joblib.dump(count, 'vectorizer.pkl')"
      ],
      "metadata": {
        "id": "Ax_8aI1VD7WH",
        "colab": {
          "base_uri": "https://localhost:8080/"
        },
        "outputId": "5006a541-5f9f-440d-b097-ae483e15c861"
      },
      "execution_count": null,
      "outputs": [
        {
          "output_type": "execute_result",
          "data": {
            "text/plain": [
              "['vectorizer.pkl']"
            ]
          },
          "metadata": {},
          "execution_count": 51
        }
      ]
    },
    {
      "cell_type": "code",
      "source": [
        "process_pip = Pipeline(\n",
        "    [\n",
        "        (\"text_processing\", text_processing_odj),\n",
        "    ]\n",
        ")\n",
        "train_x_train_processed = process_pip.fit_transform(train_x_train)\n",
        "test_x_test_processed = process_pip.transform(test_x_test)\n",
        "validation_x_val_processed = process_pip.transform(validation_x_val)\n"
      ],
      "metadata": {
        "id": "8FAo7j50ECt8"
      },
      "execution_count": null,
      "outputs": []
    },
    {
      "cell_type": "code",
      "source": [
        "# validation by using the accuracy score, confusion matrix, and classification report\n",
        "\n",
        "print(\"Train: \",acc_score(train_y_train, svm_pipeline.predict(train_x_train_processed)))\n",
        "print(\"Test: \",acc_score(test_y_test, svm_pipeline.predict(test_x_test_processed)))\n",
        "print(\"Validation: \",acc_score(validation_y_val, svm_pipeline.predict(validation_x_val_processed)))\n",
        "\n",
        "train_models.loc[len(train_models)] = [\"SVM\", acc_score(train_y_train, svm_pipeline.predict(train_x_train_processed))]\n",
        "test_models.loc[len(test_models)] = [\"SVM\", acc_score(test_y_test, svm_pipeline.predict(test_x_test_processed))]\n",
        "validation_models.loc[len(validation_models)] = [\"SVM\", acc_score(validation_y_val, svm_pipeline.predict(validation_x_val_processed))]"
      ],
      "metadata": {
        "id": "eC9imRXzEFGN",
        "colab": {
          "base_uri": "https://localhost:8080/"
        },
        "outputId": "c4a1722c-1f3c-4508-98aa-3659cbf55ba1"
      },
      "execution_count": null,
      "outputs": [
        {
          "output_type": "stream",
          "name": "stdout",
          "text": [
            "Train:  0.9680605037814863\n",
            "Test:  0.8825\n",
            "Validation:  0.8915\n"
          ]
        }
      ]
    },
    {
      "cell_type": "code",
      "source": [
        "conf_mat(\n",
        "    svm_pipeline, train_x_train_processed, test_x_test_processed, validation_x_val_processed\n",
        ")"
      ],
      "metadata": {
        "id": "VU5Mcqe0EHAy",
        "colab": {
          "base_uri": "https://localhost:8080/",
          "height": 487
        },
        "outputId": "142c083e-0bfe-4705-b899-72d4811a0cb2"
      },
      "execution_count": null,
      "outputs": [
        {
          "output_type": "display_data",
          "data": {
            "text/plain": [
              "<Figure size 1500x500 with 6 Axes>"
            ],
            "image/png": "[encoded data removed]"
          },
          "metadata": {}
        }
      ]
    },
    {
      "cell_type": "code",
      "source": [
        "svm_pipeline = joblib.load('svm_model.pkl')\n",
        "count_vectorizer = joblib.load('vectorizer.pkl')\n",
        "\n",
        "# Function to predict the emotion of user input\n",
        "def predict_emotion(text):\n",
        "    # Preprocess the input text (using the same pipeline as during training)\n",
        "    processed_text = svm_pipeline.named_steps['text_processing'].transform(pd.Series([text]))\n",
        "    # Vectorize using the loaded vectorizer\n",
        "    vectorized_text = count_vectorizer.transform(processed_text)\n",
        "    # Predict using the loaded model\n",
        "    predicted_emotion_encoded = svm_pipeline.named_steps['svm'].predict(vectorized_text)\n",
        "\n",
        "    # Define emotion labels\n",
        "    emotion_labels = ['anger', 'fear', 'joy', 'love', 'sadness', 'surprise']\n",
        "\n",
        "    # Inverse transform to get the emotion label\n",
        "    predicted_emotion = emotion_labels[predicted_emotion_encoded[0]]\n",
        "\n",
        "    return predicted_emotion\n",
        "\n",
        "\n",
        "# Get user input\n",
        "user_input = input(\"Enter a text: \")\n",
        "\n",
        "# Predict the emotion\n",
        "predicted_emotion = predict_emotion(user_input)\n",
        "\n",
        "print(\"Predicted emotion:\", predicted_emotion)\n"
      ],
      "metadata": {
        "colab": {
          "base_uri": "https://localhost:8080/"
        },
        "id": "2zR3g0PA7RkN",
        "outputId": "444cf6bb-e2b1-4cbd-a805-41e1f0198671"
      },
      "execution_count": null,
      "outputs": [
        {
          "output_type": "stream",
          "name": "stdout",
          "text": [
            "Enter a text: I am scared\n",
            "Predicted emotion: fear\n"
          ]
        }
      ]
    }
  ]
}